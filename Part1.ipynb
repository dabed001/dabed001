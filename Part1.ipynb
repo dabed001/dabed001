{
 "cells": [
  {
   "cell_type": "code",
   "execution_count": null,
   "id": "7ade34cd",
   "metadata": {},
   "outputs": [],
   "source": [
    "# Part 1\n",
    "# Darren Abedi-Boafo | Student Number: 33741357\n",
    "# I worked and submitted alone"
   ]
  },
  {
   "cell_type": "code",
   "execution_count": 1,
   "id": "6d30d5d8",
   "metadata": {},
   "outputs": [],
   "source": [
    "# Importation of the neccessary libraries\n",
    "import pandas as pd\n",
    "import numpy as np\n",
    "\n",
    "# This loads the sonar training and testing datasets\n",
    "sonartrain_data = pd.read_csv('sonar_train.csv')\n",
    "sonartest_data = pd.read_csv('sonar_test.csv')"
   ]
  },
  {
   "cell_type": "code",
   "execution_count": 52,
   "id": "2a706b87",
   "metadata": {},
   "outputs": [],
   "source": [
    "# Defining Minkowski’s Distance Function\n",
    "def minkowski_distance(vector1, vector2, q):  \n",
    "    return np.sum(np.abs(vector1 - vector2)**q)**(1/q)"
   ]
  },
  {
   "cell_type": "code",
   "execution_count": 54,
   "id": "338d6c7c",
   "metadata": {},
   "outputs": [],
   "source": [
    "# The define and implementation of the Nearest Neighbour Classification\n",
    "def nn_classification(sonartrain_data, sonartest_data, q):  \n",
    "    predicted_labels = []  \n",
    "    for _, test_record in sonartest_data.iterrows():  \n",
    "        smallest_distance = np.inf  \n",
    "        allocated_class = None  \n",
    "        \n",
    "        for _, train_record in sonartrain_data.iterrows():  \n",
    "            distance = minkowski_distance(test_record[:-1], train_record[:-1], q)  \n",
    "            if distance < smallest_distance:\n",
    "                smallest_distance = distance\n",
    "                allocated_class = train_record['Class']\n",
    "        \n",
    "        predicted_labels.append(allocated_class)\n",
    "    return predicted_labels"
   ]
  },
  {
   "cell_type": "code",
   "execution_count": 46,
   "id": "bf2c7163",
   "metadata": {},
   "outputs": [],
   "source": [
    "# Importation from the metrics module \n",
    "from sklearn.metrics import accuracy_score, precision_score, recall_score, f1_score\n",
    "    \n",
    "# The define of the scores calculation print of the results\n",
    "def scores_calculation(actual_scores, predicted_scores):\n",
    "    if len(actual_scores) == len(predicted_scores):\n",
    "        print(f'Model Accuracy Score: {accuracy_score(actual_scores, predicted_scores)}')\n",
    "        print(f'Model Precision Score: {precision_score(actual_scores, predicted_scores, pos_label=\"M\")}')\n",
    "        print(f'Model Recall Score: {recall_score(actual_scores, predicted_scores, pos_label=\"M\")}')\n",
    "        print(f'Model F1 Score: {f1_score(actual_scores, predicted_scores, pos_label=\"M\")}')\n",
    "    else:\n",
    "        print(\"Error in the actual and predicted scores\")"
   ]
  },
  {
   "cell_type": "code",
   "execution_count": 55,
   "id": "65ef70eb",
   "metadata": {
    "scrolled": true
   },
   "outputs": [
    {
     "name": "stdout",
     "output_type": "stream",
     "text": [
      "Model Accuracy Score: 0.8840579710144928\n",
      "Model Precision Score: 0.8536585365853658\n",
      "Model Recall Score: 0.9459459459459459\n",
      "Model F1 Score: 0.8974358974358975\n"
     ]
    }
   ],
   "source": [
    "# For The Manhattan Distance\n",
    "manhattan_predictions = nn_classification(sonartrain_data, sonartest_data, 1)  \n",
    "scores_calculation(sonartest_data['Class'], manhattan_predictions)  "
   ]
  },
  {
   "cell_type": "code",
   "execution_count": 56,
   "id": "6714f84b",
   "metadata": {},
   "outputs": [
    {
     "name": "stdout",
     "output_type": "stream",
     "text": [
      "Model Accuracy Score: 0.8985507246376812\n",
      "Model Precision Score: 0.8571428571428571\n",
      "Model Recall Score: 0.972972972972973\n",
      "Model F1 Score: 0.9113924050632912\n"
     ]
    }
   ],
   "source": [
    "# For The Euclidian Distance\n",
    "euclidian_predictions = nn_classification(sonartrain_data, sonartest_data, 2)\n",
    "scores_calculation (sonartest_data['Class'], euclidian_predictions) "
   ]
  },
  {
   "cell_type": "code",
   "execution_count": null,
   "id": "095d63bb",
   "metadata": {},
   "outputs": [],
   "source": []
  }
 ],
 "metadata": {
  "kernelspec": {
   "display_name": "Python 3",
   "language": "python",
   "name": "python3"
  },
  "language_info": {
   "codemirror_mode": {
    "name": "ipython",
    "version": 3
   },
   "file_extension": ".py",
   "mimetype": "text/x-python",
   "name": "python",
   "nbconvert_exporter": "python",
   "pygments_lexer": "ipython3",
   "version": "3.6.13"
  }
 },
 "nbformat": 4,
 "nbformat_minor": 5
}
